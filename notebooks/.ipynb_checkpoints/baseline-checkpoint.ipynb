{
 "cells": [
  {
   "attachments": {},
   "cell_type": "markdown",
   "id": "d91e3b5a",
   "metadata": {},
   "source": [
    "WARNING!!! THIS NOTEBOOK IS A KINDA LEGACY WHICH IS USED TO TEST HYPOTHESIS WITHOUT USING MAIN LIBRARY. IT IS NOT RECOMENDED TO USE IT TO GET METRICS, PLEASE USE SOURCE LIBRARY."
   ]
  },
  {
   "attachments": {},
   "cell_type": "markdown",
   "id": "d886cb94-0935-4818-89c6-444e9c8f5126",
   "metadata": {},
   "source": [
    "# Topic segmentation"
   ]
  },
  {
   "cell_type": "code",
   "execution_count": 60,
   "id": "c4675583",
   "metadata": {},
   "outputs": [],
   "source": [
    "# dataset_name = 'ami'\n",
    "dataset_name = 'wiki50'"
   ]
  },
  {
   "cell_type": "code",
   "execution_count": 61,
   "id": "061479f0-c86c-41bd-8abf-282ad8768be7",
   "metadata": {
    "scrolled": true
   },
   "outputs": [],
   "source": [
    "import os\n",
    "# os.environ['TOKENIZERS_PARALLELISM'] = 'true'\n",
    "os.environ['CUDA_VISIBLE_DEVICES'] = '0,1,2,3'\n",
    "DEVICES = 'cuda'\n",
    "\n",
    "from numba.core.errors import NumbaDeprecationWarning\n",
    "import warnings\n",
    "warnings.simplefilter('ignore', category=NumbaDeprecationWarning)\n",
    "\n",
    "# import nltk\n",
    "import torch\n",
    "from bertopic import BERTopic\n",
    "from sklearn.feature_extraction.text import CountVectorizer\n",
    "# import spacy\n",
    "import segeval\n",
    "from pathlib2 import Path\n",
    "from tqdm import tqdm\n",
    "from datasets import Dataset, load_from_disk\n",
    "from sentence_transformers import SentenceTransformer\n",
    "import numpy as np\n",
    "\n",
    "import sys\n",
    "import re\n",
    "\n",
    "# import hdbscan\n",
    "import sklearn\n",
    "\n",
    "import cuml\n",
    "from cuml.common.device_selection import set_global_device_type, get_global_device_type\n",
    "\n",
    "from sklearn.metrics import f1_score\n",
    "\n",
    "from pathlib2 import Path\n",
    "import codecs\n",
    "import json\n",
    "\n",
    "from sklearn.metrics.pairwise import cosine_similarity\n",
    "from numpy import dot\n",
    "from numpy.linalg import norm\n",
    "from sentence_transformers import util\n",
    "\n",
    "from scipy.signal import savgol_filter\n",
    "import umap\n",
    "\n",
    "import nltk\n",
    "\n",
    "import plotly.io as pio\n",
    "pio.renderers.default='iframe'"
   ]
  },
  {
   "cell_type": "code",
   "execution_count": 62,
   "id": "c87046ec-468e-482b-a7b3-e2730a7fd618",
   "metadata": {},
   "outputs": [],
   "source": [
    "set_global_device_type('cpu')"
   ]
  },
  {
   "attachments": {},
   "cell_type": "markdown",
   "id": "1fa32292-d7cc-448a-a309-a3ba869c6362",
   "metadata": {},
   "source": [
    "## Load data"
   ]
  },
  {
   "attachments": {},
   "cell_type": "markdown",
   "id": "9f89e925-8d32-4d67-8258-bad2812b53e2",
   "metadata": {},
   "source": [
    "Load wiki727k data:"
   ]
  },
  {
   "cell_type": "code",
   "execution_count": 63,
   "id": "258b169a-043b-4dbc-a16f-da380e7fec34",
   "metadata": {},
   "outputs": [],
   "source": [
    "def get_boundaries(labels):\n",
    "    assert len(labels) > 1\n",
    "    boundaries = ['0']\n",
    "    for i in range(1, len(labels)):\n",
    "        if labels[i] != labels[i - 1]:\n",
    "            boundaries.append('1')\n",
    "        else:\n",
    "            boundaries.append('0')\n",
    "    return ''.join(boundaries)\n",
    "\n",
    "\n",
    "def get_files(path):\n",
    "    'Ref: https://github.com/koomri/text-segmentation'\n",
    "    all_objects = Path(path).glob('**/*')\n",
    "    files = [str(p) for p in all_objects if p.is_file()]\n",
    "    return files\n",
    "\n",
    "\n",
    "class WikiDataset:\n",
    "    def __init__(self, root):\n",
    "        self.textfiles = get_files(root)\n",
    "        self.separator = '========'\n",
    "\n",
    "    def _get_sections(self, lines):\n",
    "        '''Divide the text using separator on parts of text, where each part\n",
    "        has a different topic. Later we'll use it for a segmentation.\n",
    "        '''\n",
    "        sections = []\n",
    "        labels = []\n",
    "        last_is_sep = False\n",
    "        topic_id = 0\n",
    "        topic_ids = {}\n",
    "\n",
    "        for i, line in enumerate(lines):\n",
    "            line = line.replace('\\n', '')\n",
    "            if i == 0:\n",
    "                # skip the first separator:\n",
    "                topic_ids[line.replace(self.separator, '')[1:]] = topic_id\n",
    "                \n",
    "            if len(line):\n",
    "                if self.separator in line:\n",
    "                    if not last_is_sep:\n",
    "                        topic_id += 1\n",
    "                        topic_ids[line.replace(self.separator, '')[1:]] = topic_id\n",
    "                        last_is_sep = True\n",
    "                else:\n",
    "                    last_is_sep = False\n",
    "                    sections.append(line)\n",
    "                    labels.append(topic_id)\n",
    "\n",
    "        return sections, labels, topic_ids\n",
    "\n",
    "    def _get_sample(self):\n",
    "        for path in self.textfiles:\n",
    "            with open(path, 'r') as f:\n",
    "                lines = f.readlines()\n",
    "            if len(lines) < 1:\n",
    "                continue\n",
    "\n",
    "            sections, labels, topic_ids = self._get_sections(lines)\n",
    "            if len(labels) <= 1:\n",
    "                continue\n",
    "\n",
    "            boundaries = get_boundaries(labels)\n",
    "            assert len(sections) == len(labels)\n",
    "            assert len(sections) == len(boundaries)\n",
    "            \n",
    "            # Sort topic_ids' keys by values:\n",
    "            topic_names = sorted(topic_ids, key=topic_ids.get)\n",
    "            \n",
    "            yield {'path': str(path),\n",
    "                   'sections': sections,\n",
    "                   'labels': labels,\n",
    "                   'boundaries': boundaries,\n",
    "                   'topic_names': topic_names}\n",
    "\n",
    "    def get_generator(self):\n",
    "        return self._get_sample\n",
    "    \n",
    "\n",
    "def load_json(file_path):\n",
    "    with codecs.open(file_path, \"r\", \"utf-8\") as f:\n",
    "        datas = json.load(f)\n",
    "    print(\"Load {} finished, Data size:{}\".format(file_path.split(\"/\")[-1], len(datas)))\n",
    "    return datas\n",
    "\n",
    "\n",
    "def preprocess(text):\n",
    "    fillers = [\"um\", \"uh\", \"oh\", \"hmm\", \"you know\", \"like\"]\n",
    "    fillers += [filler + \" \" for filler in fillers]  # filler inside caption with other words\n",
    "    fillers = [re.compile(f\"(?i){filler}\") for filler in fillers]  # make it case-insensitive\n",
    "\n",
    "    for filler in fillers:\n",
    "        text = filler.sub(\"\", text)\n",
    "\n",
    "    captions_with_multiple_sentences = text.count(\".\")\n",
    "    if captions_with_multiple_sentences > 0:\n",
    "        print(f\"WARNING: Found {captions_with_multiple_sentences} captions with multiple sentences; sentence embeddings may be inaccurate.\", file=sys.stderr)\n",
    "\n",
    "    if len(text) <= 20:\n",
    "        return None\n",
    "\n",
    "    return text\n",
    "    \n",
    "    \n",
    "class AMIDataset:\n",
    "    def __init__(self, root):\n",
    "        '''Set topic_key='id' if you want to set each section to different topic_id, and \n",
    "        set topic_key='topic' if you want to preserve topic names (which will imply that topics can be\n",
    "        the same for different section, so it can 'come back')\n",
    "        '''\n",
    "        self.textfiles = get_files(root)\n",
    "        self.topic_key = 'id'\n",
    "\n",
    "    def _get_sections(self, segments):\n",
    "        sections = []  # text in each section\n",
    "        labels = []  # topic id for each section\n",
    "        topic_ids = {}  # topic name : topic id\n",
    "\n",
    "        for segment in segments:\n",
    "            topic_name = segment[self.topic_key]\n",
    "            \n",
    "            if segment['dialogueacts'] != 'None':\n",
    "                dialogue = []\n",
    "                starttimes = []\n",
    "                for d in segment['dialogueacts']:\n",
    "                    if d['starttime'] not in starttimes:\n",
    "                        starttimes.append(d['starttime'])\n",
    "                        preprocessed = preprocess(d['text'])\n",
    "                        if preprocessed is not None:\n",
    "                            dialogue.append(preprocessed)\n",
    "                \n",
    "                if topic_name not in topic_ids.keys():\n",
    "                    topic_ids[topic_name] = len(topic_ids)\n",
    "                topic_id = topic_ids[topic_name]\n",
    "                \n",
    "                sections += dialogue\n",
    "                labels += [topic_id] * len(dialogue)\n",
    "                \n",
    "            if segment['subtopics'] != 'None':\n",
    "                for subsegment in segment['subtopics']:\n",
    "                    subtopic_name = topic_name + ': ' + subsegment[self.topic_key]\n",
    "                    \n",
    "                    if subsegment['dialogueacts'] != 'None':\n",
    "                        subdialogue = []\n",
    "                        for d in subsegment['dialogueacts']:\n",
    "                            preprocessed = preprocess(d['text'])\n",
    "                            if preprocessed is not None:\n",
    "                                subdialogue.append(preprocessed)\n",
    "                        \n",
    "                        if subtopic_name not in topic_ids.keys():\n",
    "                            topic_ids[subtopic_name] = len(topic_ids)\n",
    "                        subtopic_id = topic_ids[subtopic_name]\n",
    "                    \n",
    "                        sections += subdialogue\n",
    "                        labels += [subtopic_id] * len(subdialogue)\n",
    "\n",
    "        return sections, labels, topic_ids\n",
    "\n",
    "    def _get_sample(self):\n",
    "        for path in self.textfiles:\n",
    "            with open(path, 'r') as f:\n",
    "                segments = json.load(f)\n",
    "            \n",
    "            sections, labels, topic_ids = self._get_sections(segments)\n",
    "            if len(labels) <= 1:\n",
    "                continue\n",
    "\n",
    "            boundaries = get_boundaries(labels)\n",
    "            assert len(sections) == len(labels)\n",
    "            assert len(sections) == len(boundaries)\n",
    "            \n",
    "            # Sort topic_ids' keys by values:\n",
    "            topic_names = sorted(topic_ids, key=topic_ids.get)\n",
    "            \n",
    "            yield {'path': str(path),\n",
    "                   'sections': sections,\n",
    "                   'labels': labels,\n",
    "                   'boundaries': boundaries,\n",
    "                   'topic_names': topic_names}\n",
    "\n",
    "    def get_generator(self):\n",
    "        return self._get_sample"
   ]
  },
  {
   "attachments": {},
   "cell_type": "markdown",
   "id": "83ced927-a403-42da-9e86-f49830c0bd05",
   "metadata": {},
   "source": [
    "We can load the data using HugginFace and generator class:"
   ]
  },
  {
   "cell_type": "code",
   "execution_count": 64,
   "id": "b698f818-8307-406f-a9cb-98e04e582285",
   "metadata": {},
   "outputs": [
    {
     "name": "stderr",
     "output_type": "stream",
     "text": [
      "Found cached dataset generator (/home/artemiev/.cache/huggingface/datasets/generator/default-a8362b2d0eda59c3/0.0.0)\n"
     ]
    }
   ],
   "source": [
    "if dataset_name == 'wiki50':\n",
    "    test_generator = WikiDataset('/data_mil/shared/datasets/nlp/wiki_test_50').get_generator()\n",
    "elif dataset_name == 'ami':\n",
    "    test_generator = AMIDataset('/data_mil/shared/datasets/nlp/ami-corpus/topics').get_generator()\n",
    "test_ds = Dataset.from_generator(test_generator, num_proc=16)"
   ]
  },
  {
   "attachments": {},
   "cell_type": "markdown",
   "id": "34a7c7c4-e78b-4331-8b51-68df8e9ff2f0",
   "metadata": {},
   "source": [
    "Next, we have to compute embeddings for each sentence using SentenceBERT:"
   ]
  },
  {
   "cell_type": "code",
   "execution_count": 65,
   "id": "6987be04-d29a-4156-a0a5-2b67261f9286",
   "metadata": {},
   "outputs": [],
   "source": [
    "sentence_model = SentenceTransformer(\"all-MiniLM-L6-v2\", device='cuda')"
   ]
  },
  {
   "cell_type": "code",
   "execution_count": 66,
   "id": "9d5dcb2b-2913-46b5-96b9-313c9dfd0711",
   "metadata": {},
   "outputs": [],
   "source": [
    "def embed(example, model, column='sections'):\n",
    "    lengths = [len(section) for section in example[column]]\n",
    "    all_sentences = []\n",
    "    for section in example[column]:\n",
    "        for sentence in section:\n",
    "            all_sentences.append(sentence) \n",
    "    embeddings = model.encode(all_sentences,\n",
    "                               show_progress_bar=False,\n",
    "                               batch_size=128,\n",
    "                               convert_to_tensor=True)\n",
    "    slices = torch.split(embeddings, lengths)\n",
    "    example['embeddings'] = list(slices)\n",
    "    return example"
   ]
  },
  {
   "attachments": {},
   "cell_type": "markdown",
   "id": "9000b35f-9214-4673-848e-a4b52546c06b",
   "metadata": {},
   "source": [
    "After, we can either save the dataset to cache:"
   ]
  },
  {
   "cell_type": "code",
   "execution_count": 67,
   "id": "bc0cff64-b2f3-45da-9c2d-f5bcc8a3439b",
   "metadata": {
    "scrolled": true
   },
   "outputs": [
    {
     "name": "stderr",
     "output_type": "stream",
     "text": [
      "Loading cached processed dataset at /home/artemiev/.cache/huggingface/datasets/generator/default-a8362b2d0eda59c3/0.0.0/cache-e7c625d28b2b30f3.arrow\n"
     ]
    }
   ],
   "source": [
    "test_ds_embedded = test_ds.map(embed, batched=True, batch_size=128, \n",
    "                               fn_kwargs={'model': sentence_model})\n",
    "# test_ds_embedded.save_to_disk('/data_mil/shared/datasets/nlp/wiki_727/wiki50_emb.hf')"
   ]
  },
  {
   "attachments": {},
   "cell_type": "markdown",
   "id": "e9109858-1f84-4712-9ac8-a85bfdac5f1a",
   "metadata": {},
   "source": [
    "Or just load it from cache:"
   ]
  },
  {
   "cell_type": "code",
   "execution_count": 68,
   "id": "c1f1325c-361b-4f13-97b6-1f6ec21db4b6",
   "metadata": {},
   "outputs": [],
   "source": [
    "# test_ds_embedded = load_from_disk('/data_mil/shared/datasets/nlp/wiki_727/wiki50_emb.hf')\n",
    "# test_ds_embedded = test_ds_embedded.filter(lambda x: len(x['sections']) > 10, num_proc=16).select(list(range(10)))"
   ]
  },
  {
   "attachments": {},
   "cell_type": "markdown",
   "id": "892bad06-8857-41b7-89ea-8ad398740418",
   "metadata": {},
   "source": [
    "## Create model"
   ]
  },
  {
   "attachments": {},
   "cell_type": "markdown",
   "id": "6289cdab",
   "metadata": {},
   "source": [
    "### Clustering"
   ]
  },
  {
   "attachments": {},
   "cell_type": "markdown",
   "id": "7be5ae69-a0cf-4a35-9464-cb4259853944",
   "metadata": {},
   "source": [
    "Now let's use embeddings clustering. We can get embeddings using sentence-bert model for each sentence."
   ]
  },
  {
   "cell_type": "code",
   "execution_count": 69,
   "id": "6dee2a59-f772-472f-b41a-3a093540dfe7",
   "metadata": {},
   "outputs": [],
   "source": [
    "def get_mean_metrics(wds, pks, f1s):\n",
    "    wd_mean = sum(wds) / len(wds)\n",
    "    pk_mean = sum(pks) / len(pks)\n",
    "    f1_mean = sum(f1s) / len(f1s)\n",
    "    return wd_mean, pk_mean, f1_mean\n",
    "\n",
    "def save_metrics(name, wds, pks, f1s, directory='./results/'):\n",
    "    isExist = os.path.exists(directory)\n",
    "    if not isExist:\n",
    "        os.makedirs(directory)\n",
    "    full_name = os.path.join(directory, name)\n",
    "    np.save(f'{full_name}-wds.npy', wds)\n",
    "    np.save(f'{full_name}-pks.npy', pks)\n",
    "    np.save(f'{full_name}-f1s.npy', f1s)"
   ]
  },
  {
   "cell_type": "code",
   "execution_count": 132,
   "id": "57a9e4c5-4f57-4de2-a345-dc78dc2f3c17",
   "metadata": {},
   "outputs": [],
   "source": [
    "def predict_boundaries_sbert(corpus, corpus_embeddings, model, smooth=False, use_umap=False, n_iter=5):\n",
    "    topic_scores = np.array(corpus_embeddings)\n",
    "    topic_scores = topic_scores /  np.linalg.norm(topic_scores, axis=1, keepdims=True)\n",
    "    \n",
    "    if use_umap:\n",
    "        reducer = umap.UMAP(metric='cosine')\n",
    "        topic_scores = reducer.fit_transform(topic_scores)\n",
    "    \n",
    "    if smooth:\n",
    "        window_length = int(topic_scores.shape[0])\n",
    "        polyorder = 2 if window_length > 2 else 1\n",
    "        topic_scores = savgol_filter(topic_scores, window_length, polyorder, axis=0)\n",
    "            \n",
    "    topic_scores = topic_scores /  np.linalg.norm(topic_scores, axis=1, keepdims=True)\n",
    "    model.fit(topic_scores)\n",
    "    topics = model.labels_\n",
    "    \n",
    "    for _ in range(n_iter):\n",
    "        for i in range(len(topics)-2):\n",
    "            if topics[i] == topics[i+2]:\n",
    "                topics[i+1] = topics[i]\n",
    "            if topics[i] != topics[i+1] and topics[i] != topics[i+2] and topics[i+1] != topics[i+2]:\n",
    "                topics[i+1] = topics[i]\n",
    "    \n",
    "    assert len(topics) == len(corpus_embeddings)\n",
    "    boundaries = get_boundaries(topics)\n",
    "    return boundaries, topics\n",
    "\n",
    "\n",
    "def get_model_clustering(use_cuml=False):\n",
    "    if use_cuml:\n",
    "        model = cuml.cluster.AgglomerativeClustering()\n",
    "    else:\n",
    "        # model = sklearn.cluster.AgglomerativeClustering(metric='cosine', linkage='average')\n",
    "        model = sklearn.cluster.HDBSCAN()\n",
    "    return model\n",
    "\n",
    "\n",
    "def calc_metrics(dataset, get_model_function, predict_boundaries_function):\n",
    "    n = len(dataset)\n",
    "    wds = np.zeros(n)\n",
    "    pks = np.zeros(n)\n",
    "    f1s = np.zeros(n)\n",
    "    for i, sample in enumerate(tqdm(dataset)):\n",
    "        model = get_model_function() if get_model_function else None\n",
    "        wd, pk, f1 = calc_metric(sample, model, predict_boundaries_function)\n",
    "        wds[i] = wd\n",
    "        pks[i] = pk\n",
    "        f1s[i] = f1\n",
    "    return wds, pks, f1s\n",
    "\n",
    "\n",
    "def calc_metric(example, model, predict_boundaries_function):\n",
    "    corpus = example['sections']\n",
    "    y_boundaries = example['boundaries']\n",
    "    embeddings = example['embeddings']\n",
    "\n",
    "    pred_boundaries, topics = predict_boundaries_function(corpus, np.array(embeddings), model)\n",
    "    \n",
    "    assert len(y_boundaries) == len(pred_boundaries)\n",
    "\n",
    "    k = int(round(len(y_boundaries) / (y_boundaries.count(\"1\") * 2.0)))\n",
    "    wd = nltk.windowdiff(y_boundaries, pred_boundaries, k)\n",
    "    \n",
    "    pk = nltk.pk(y_boundaries, pred_boundaries)\n",
    "     \n",
    "    y_true = list(map(int, y_boundaries))\n",
    "    y_pred = list(map(int, pred_boundaries))\n",
    "    f1 = f1_score(y_true, y_pred)\n",
    "    return wd, pk, f1"
   ]
  },
  {
   "attachments": {},
   "cell_type": "markdown",
   "id": "936604d4-5b19-4165-abc5-372c244a1518",
   "metadata": {},
   "source": [
    "Result on Wiki727k:\\\n",
    "SentenceBERT-train | WD: 0.618, PK: 0.458"
   ]
  },
  {
   "cell_type": "code",
   "execution_count": 133,
   "id": "df8b58b6",
   "metadata": {},
   "outputs": [
    {
     "name": "stderr",
     "output_type": "stream",
     "text": [
      "100%|██████████| 50/50 [00:01<00:00, 28.07it/s]"
     ]
    },
    {
     "name": "stdout",
     "output_type": "stream",
     "text": [
      "sbert-wiki50 | WD: 0.505, PK: 0.490, F1: 0.014\n"
     ]
    },
    {
     "name": "stderr",
     "output_type": "stream",
     "text": [
      "\n"
     ]
    }
   ],
   "source": [
    "model_name = 'sbert'\n",
    "experiment_name = f'{model_name}-{dataset_name}'\n",
    "wds, pks, f1s = calc_metrics(test_ds_embedded, get_model_clustering, predict_boundaries_sbert)\n",
    "save_metrics(experiment_name, wds, pks, f1s)\n",
    "wd_mean, pk_mean, f1_mean = get_mean_metrics(wds, pks, f1s)\n",
    "print(f'{experiment_name} | WD: {wd_mean:.3f}, PK: {pk_mean:.3f}, F1: {f1_mean:.3f}')"
   ]
  },
  {
   "cell_type": "code",
   "execution_count": 134,
   "id": "defc3f0c",
   "metadata": {},
   "outputs": [
    {
     "name": "stdout",
     "output_type": "stream",
     "text": [
      "sbert-wiki50 | WD: 0.505, PK: 0.490, F1: 0.014\n"
     ]
    }
   ],
   "source": [
    "print(f'{experiment_name} | WD: {wd_mean:.3f}, PK: {pk_mean:.3f}, F1: {f1_mean:.3f}')"
   ]
  },
  {
   "cell_type": "code",
   "execution_count": 72,
   "id": "38d4ddc8",
   "metadata": {},
   "outputs": [
    {
     "name": "stdout",
     "output_type": "stream",
     "text": [
      "sbert-wiki50 | WD: 0.544, PK: 0.496, F1: 0.033\n"
     ]
    }
   ],
   "source": [
    "print(f'{experiment_name} | WD: {wd_mean:.3f}, PK: {pk_mean:.3f}, F1: {f1_mean:.3f}')"
   ]
  },
  {
   "attachments": {},
   "cell_type": "markdown",
   "id": "1380712b-17c7-4e39-adc2-6bcbc0afdec1",
   "metadata": {},
   "source": [
    "Result on Wiki727k:\\\n",
    "SentenceBERT-test | WD: 0.618, PK: 0.459\\\n",
    "SentenceBERT-test | WD: 0.473, PK: 0.422 (with cosine metric and average linkage)"
   ]
  },
  {
   "attachments": {},
   "cell_type": "markdown",
   "id": "3fdd1fb2-40b0-4928-b2d1-cb3c8b5c5927",
   "metadata": {},
   "source": [
    "### BERTopic"
   ]
  },
  {
   "attachments": {},
   "cell_type": "markdown",
   "id": "fbbcbb64-8ddd-456e-a0d8-122524e8c94e",
   "metadata": {},
   "source": [
    "Let's create topic model with BERTopic. By default the model is AgglomerativeClustering with PCA dimensionality reduction:"
   ]
  },
  {
   "cell_type": "code",
   "execution_count": 73,
   "id": "13ab9167-ec36-4c3e-a3e0-cbabab06ae03",
   "metadata": {},
   "outputs": [],
   "source": [
    "def predict_boundaries_bertopic(corpus, embeddings, model):\n",
    "    if len(corpus) > 6:\n",
    "        topics, probs = model.fit_transform(corpus, embeddings)\n",
    "    else:\n",
    "        topics = [0] * len(corpus)\n",
    "    assert len(topics) == len(corpus)\n",
    "    boundaries = get_boundaries(topics)\n",
    "    return boundaries, list(topics)\n",
    "\n",
    "\n",
    "def get_model_bertopic(use_cuml=False):\n",
    "    n_components = 5\n",
    "    vectorizer_model = CountVectorizer(stop_words='english')\n",
    "    \n",
    "    if use_cuml:\n",
    "        umap_model = cuml.PCA(n_components=n_components)\n",
    "        # hdbscan_model = get_model_clustering(use_cuml)\n",
    "    else:\n",
    "        umap_model = sklearn.decomposition.PCA(n_components=n_components)\n",
    "        # hdbscan_model = get_model_clustering(use_cuml)\n",
    "        \n",
    "    topic_model = BERTopic(umap_model=umap_model, \n",
    "                        #    hdbscan_model=hdbscan_model,\n",
    "                           vectorizer_model=vectorizer_model)\n",
    "    return topic_model"
   ]
  },
  {
   "cell_type": "code",
   "execution_count": 74,
   "id": "18e4d622",
   "metadata": {},
   "outputs": [
    {
     "name": "stderr",
     "output_type": "stream",
     "text": [
      "100%|██████████| 50/50 [00:03<00:00, 12.87it/s]"
     ]
    },
    {
     "name": "stdout",
     "output_type": "stream",
     "text": [
      "bertopic-wiki50 | WD: 0.546, PK: 0.502, F1: 0.020\n"
     ]
    },
    {
     "name": "stderr",
     "output_type": "stream",
     "text": [
      "\n"
     ]
    }
   ],
   "source": [
    "model_name = 'bertopic'\n",
    "experiment_name = f'{model_name}-{dataset_name}'\n",
    "wds, pks, f1s = calc_metrics(test_ds_embedded, get_model_bertopic, predict_boundaries_bertopic)\n",
    "save_metrics(experiment_name, wds, pks, f1s)\n",
    "wd_mean, pk_mean, f1_mean = get_mean_metrics(wds, pks, f1s)\n",
    "print(f'{experiment_name} | WD: {wd_mean:.3f}, PK: {pk_mean:.3f}, F1: {f1_mean:.3f}')"
   ]
  },
  {
   "cell_type": "code",
   "execution_count": 75,
   "id": "39e13f46",
   "metadata": {},
   "outputs": [
    {
     "name": "stdout",
     "output_type": "stream",
     "text": [
      "bertopic-wiki50 | WD: 0.546, PK: 0.502, F1: 0.020\n"
     ]
    }
   ],
   "source": [
    "print(f'{experiment_name} | WD: {wd_mean:.3f}, PK: {pk_mean:.3f}, F1: {f1_mean:.3f}')"
   ]
  },
  {
   "attachments": {},
   "cell_type": "markdown",
   "id": "dbbec3d1-ebb4-4cf7-be19-36c9bfeb4fef",
   "metadata": {},
   "source": [
    "Result on Wiki727k:\\\n",
    "BERTopic-test-AggClustering | WD: 0.63226, PK: 0.46371\\\n",
    "BERTopic-test-HDBSCAN | WD: 0.44913, PK: 0.41857"
   ]
  },
  {
   "attachments": {},
   "cell_type": "markdown",
   "id": "88fa5261",
   "metadata": {},
   "source": [
    "### Similarity based"
   ]
  },
  {
   "cell_type": "code",
   "execution_count": 76,
   "id": "7cfa9993",
   "metadata": {},
   "outputs": [],
   "source": [
    "import matplotlib.pyplot as plt\n",
    "\n",
    "def plot_line(array):\n",
    "    x = range(len(array))\n",
    "    plt.plot(x, array)\n",
    "    plt.xlabel('X')\n",
    "    plt.ylabel('Y')\n",
    "    plt.title('Line Plot')\n",
    "    plt.show()"
   ]
  },
  {
   "cell_type": "code",
   "execution_count": 77,
   "id": "79c01988",
   "metadata": {},
   "outputs": [],
   "source": [
    "def predict_boundaries_similarity(corpus, embeddings, model):\n",
    "    topics = [0]\n",
    "    topic_id = 0\n",
    "    similarities = []\n",
    "    \n",
    "    for i in range(1, embeddings.shape[0]):\n",
    "        a = embeddings[i-1]\n",
    "        b = embeddings[i]\n",
    "        similarity = util.cos_sim(a, b)\n",
    "        similarities.append(float(similarity))\n",
    "    \n",
    "    similarities = np.array(similarities)\n",
    "    # plot_line(similarities)\n",
    "    threshold = similarities.mean() - similarities.std()*0.6\n",
    "    # print(threshold, similarities.mean(), similarities.std())\n",
    "    \n",
    "    for i in range(1, embeddings.shape[0]):\n",
    "        s = similarities[i-1]\n",
    "        if s < threshold:\n",
    "            topic_id += 1\n",
    "        topics.append(topic_id)\n",
    "            \n",
    "    assert len(topics) == len(corpus)\n",
    "    boundaries = get_boundaries(topics)\n",
    "    return boundaries, list(topics)"
   ]
  },
  {
   "cell_type": "code",
   "execution_count": 78,
   "id": "954c471a",
   "metadata": {},
   "outputs": [
    {
     "name": "stderr",
     "output_type": "stream",
     "text": [
      "100%|██████████| 50/50 [00:01<00:00, 31.55it/s]"
     ]
    },
    {
     "name": "stdout",
     "output_type": "stream",
     "text": [
      "sim-wiki50 | WD: 0.699, PK: 0.481, F1: 0.269\n"
     ]
    },
    {
     "name": "stderr",
     "output_type": "stream",
     "text": [
      "\n"
     ]
    }
   ],
   "source": [
    "model_name = 'sim'\n",
    "experiment_name = f'{model_name}-{dataset_name}'\n",
    "wds, pks, f1s = calc_metrics(test_ds_embedded, #.select([0,1,2,3,4]), \n",
    "                             None, predict_boundaries_similarity)\n",
    "save_metrics(experiment_name, wds, pks, f1s)\n",
    "wd_mean, pk_mean, f1_mean = get_mean_metrics(wds, pks, f1s)\n",
    "print(f'{experiment_name} | WD: {wd_mean:.3f}, PK: {pk_mean:.3f}, F1: {f1_mean:.3f}')"
   ]
  },
  {
   "cell_type": "code",
   "execution_count": 79,
   "id": "a0838b6a",
   "metadata": {},
   "outputs": [
    {
     "name": "stdout",
     "output_type": "stream",
     "text": [
      "sim-wiki50 | WD: 0.699, PK: 0.481, F1: 0.269\n"
     ]
    }
   ],
   "source": [
    "print(f'{experiment_name} | WD: {wd_mean:.3f}, PK: {pk_mean:.3f}, F1: {f1_mean:.3f}')"
   ]
  },
  {
   "attachments": {},
   "cell_type": "markdown",
   "id": "8f1438c7",
   "metadata": {},
   "source": [
    "### Naive (random) segmentation"
   ]
  },
  {
   "attachments": {},
   "cell_type": "markdown",
   "id": "4b21f492",
   "metadata": {},
   "source": [
    "First let's estimate the average number of segments in documents"
   ]
  },
  {
   "cell_type": "code",
   "execution_count": 80,
   "id": "cb696f80",
   "metadata": {},
   "outputs": [],
   "source": [
    "import matplotlib.pyplot as plt\n",
    "import numpy as np\n",
    "from sklearn.linear_model import LinearRegression\n",
    "import matplotlib.pyplot as plt\n",
    "\n",
    "\n",
    "def get_statistics(data, name):\n",
    "    # Calculate statistics\n",
    "    avg = np.mean(data)\n",
    "    std = np.std(data)\n",
    "    min_val = np.min(data)\n",
    "    max_val = np.max(data)\n",
    "    median = np.median(data)\n",
    "    q1 = np.percentile(data, 25)\n",
    "    q3 = np.percentile(data, 75)\n",
    "\n",
    "    # Print statistics\n",
    "    print(\"Average:\", avg)\n",
    "    print(\"Standard Deviation:\", std)\n",
    "    print(\"Minimum Value:\", min_val)\n",
    "    print(\"Maximum Value:\", max_val)\n",
    "    print(\"Median:\", median)\n",
    "    print(\"Q1 (25th percentile):\", q1)\n",
    "    print(\"Q3 (75th percentile):\", q3)\n",
    "\n",
    "    # Generate histogram plot\n",
    "    plt.hist(data, bins='auto', alpha=0.7, rwidth=0.85)\n",
    "    plt.xlabel('Value')\n",
    "    plt.ylabel('Frequency')\n",
    "    plt.title(name)\n",
    "    plt.grid(True)\n",
    "    plt.show()\n",
    "\n",
    "\n",
    "def approximate_dependence(x, y, xlabel, ylabel):\n",
    "    x = np.array(x).reshape(-1, 1)\n",
    "    y = np.array(y)\n",
    "\n",
    "    regression = LinearRegression()\n",
    "    regression.fit(x, y)\n",
    "\n",
    "    slope = regression.coef_[0]\n",
    "    intercept = regression.intercept_\n",
    "\n",
    "    print(f\"Approximation: y = {slope:.4f} * x + {intercept:.4f}\")\n",
    "\n",
    "    x_line = np.linspace(min(x), max(x), 100)\n",
    "    y_line = regression.predict(x_line.reshape(-1, 1))\n",
    "\n",
    "    plt.scatter(x, y, color='blue', label='Original Data')\n",
    "    plt.plot(x_line, y_line, color='red', label='Approximation')\n",
    "    plt.xlabel(xlabel)\n",
    "    plt.ylabel(ylabel)\n",
    "    plt.title(f'Approximation for {ylabel} of {xlabel}')\n",
    "    plt.legend()\n",
    "    plt.show()\n",
    "    \n",
    "    a, b = slope, intercept\n",
    "    return a, b"
   ]
  },
  {
   "cell_type": "code",
   "execution_count": 81,
   "id": "5bcce51b",
   "metadata": {},
   "outputs": [
    {
     "name": "stdout",
     "output_type": "stream",
     "text": [
      "Average: 6.68\n",
      "Standard Deviation: 9.315449532899635\n",
      "Minimum Value: 2\n",
      "Maximum Value: 58\n",
      "Median: 4.0\n",
      "Q1 (25th percentile): 3.0\n",
      "Q3 (75th percentile): 6.0\n"
     ]
    },
    {
     "data": {
      "image/png": "[encoded data removed]",
      "text/plain": [
       "<Figure size 640x480 with 1 Axes>"
      ]
     },
     "metadata": {},
     "output_type": "display_data"
    },
    {
     "name": "stdout",
     "output_type": "stream",
     "text": [
      "Average: 61.4\n",
      "Standard Deviation: 69.1462218779884\n",
      "Minimum Value: 6\n",
      "Maximum Value: 385\n",
      "Median: 36.5\n",
      "Q1 (25th percentile): 22.25\n",
      "Q3 (75th percentile): 68.25\n"
     ]
    },
    {
     "data": {
      "image/png": "[encoded data removed]",
      "text/plain": [
       "<Figure size 640x480 with 1 Axes>"
      ]
     },
     "metadata": {},
     "output_type": "display_data"
    },
    {
     "name": "stdout",
     "output_type": "stream",
     "text": [
      "Approximation: y = 0.1246 * x + -0.9685\n"
     ]
    },
    {
     "data": {
      "image/png": "[encoded data removed]",
      "text/plain": [
       "<Figure size 640x480 with 1 Axes>"
      ]
     },
     "metadata": {},
     "output_type": "display_data"
    }
   ],
   "source": [
    "n_sections = np.array([sum([int(i) for i in s]) for s in test_ds_embedded['boundaries']])\n",
    "n_sentences = np.array([len(s) for s in test_ds_embedded['sections']])\n",
    "get_statistics(n_sections, name='n_sections')\n",
    "get_statistics(n_sentences, name='n_sentences')\n",
    "a, b = approximate_dependence(n_sentences, n_sections, 'n_sentences', 'n_sections')\n"
   ]
  },
  {
   "cell_type": "code",
   "execution_count": 82,
   "id": "c8f8f378",
   "metadata": {},
   "outputs": [],
   "source": [
    "import random \n",
    "\n",
    "\n",
    "def predict_boundaries_random(corpus, embeddings, model):\n",
    "    # random.seed(123)\n",
    "    n_sentences = len(corpus)\n",
    "    n_sections_estimated = a * n_sentences + b\n",
    "    p = n_sections_estimated / n_sentences\n",
    "    topics = [0]\n",
    "    topic_id = 0\n",
    "    \n",
    "    for i in range(1, embeddings.shape[0]):\n",
    "        if random.uniform(0, 1) <= p:\n",
    "            topic_id += 1\n",
    "        topics.append(topic_id)\n",
    "            \n",
    "    assert len(topics) == len(corpus)\n",
    "    boundaries = get_boundaries(topics)\n",
    "    return boundaries, list(topics)"
   ]
  },
  {
   "cell_type": "code",
   "execution_count": 83,
   "id": "3e498cb0",
   "metadata": {},
   "outputs": [
    {
     "name": "stderr",
     "output_type": "stream",
     "text": [
      "100%|██████████| 50/50 [00:01<00:00, 45.92it/s]\n"
     ]
    },
    {
     "name": "stdout",
     "output_type": "stream",
     "text": [
      "random-wiki50 | WD: 0.578, PK: 0.530, F1: 0.096\n"
     ]
    },
    {
     "name": "stderr",
     "output_type": "stream",
     "text": [
      "100%|██████████| 50/50 [00:01<00:00, 40.70it/s]\n"
     ]
    },
    {
     "name": "stdout",
     "output_type": "stream",
     "text": [
      "random-wiki50 | WD: 0.575, PK: 0.522, F1: 0.103\n"
     ]
    },
    {
     "name": "stderr",
     "output_type": "stream",
     "text": [
      "100%|██████████| 50/50 [00:00<00:00, 53.30it/s]\n"
     ]
    },
    {
     "name": "stdout",
     "output_type": "stream",
     "text": [
      "random-wiki50 | WD: 0.580, PK: 0.532, F1: 0.091\n"
     ]
    },
    {
     "name": "stderr",
     "output_type": "stream",
     "text": [
      "100%|██████████| 50/50 [00:01<00:00, 43.73it/s]\n"
     ]
    },
    {
     "name": "stdout",
     "output_type": "stream",
     "text": [
      "random-wiki50 | WD: 0.563, PK: 0.511, F1: 0.111\n"
     ]
    },
    {
     "name": "stderr",
     "output_type": "stream",
     "text": [
      "100%|██████████| 50/50 [00:01<00:00, 43.32it/s]"
     ]
    },
    {
     "name": "stdout",
     "output_type": "stream",
     "text": [
      "random-wiki50 | WD: 0.578, PK: 0.543, F1: 0.051\n"
     ]
    },
    {
     "name": "stderr",
     "output_type": "stream",
     "text": [
      "\n"
     ]
    }
   ],
   "source": [
    "model_name = 'random'\n",
    "experiment_name = f'{model_name}-{dataset_name}'\n",
    "wd, pk, f1 = [], [], []\n",
    "for _ in range(5):\n",
    "    wds, pks, f1s = calc_metrics(test_ds_embedded, None, predict_boundaries_random)\n",
    "    save_metrics(experiment_name, wds, pks, f1s)\n",
    "    wd_mean, pk_mean, f1_mean = get_mean_metrics(wds, pks, f1s)\n",
    "    wd.append(wd_mean)\n",
    "    pk.append(pk_mean)\n",
    "    f1.append(f1_mean)\n",
    "    print(f'{experiment_name} | WD: {wd_mean:.3f}, PK: {pk_mean:.3f}, F1: {f1_mean:.3f}')"
   ]
  },
  {
   "cell_type": "code",
   "execution_count": 84,
   "id": "d7a1d21a",
   "metadata": {},
   "outputs": [
    {
     "name": "stdout",
     "output_type": "stream",
     "text": [
      "random-wiki50 | WD: 0.578, PK: 0.543, F1: 0.051\n"
     ]
    }
   ],
   "source": [
    "wd_mean = np.array(wd_mean).mean()\n",
    "pk_mean = np.array(pk_mean).mean()\n",
    "f1_mean = np.array(f1_mean).mean()\n",
    "print(f'{experiment_name} | WD: {wd_mean:.3f}, PK: {pk_mean:.3f}, F1: {f1_mean:.3f}')"
   ]
  },
  {
   "attachments": {},
   "cell_type": "markdown",
   "id": "94a88745",
   "metadata": {},
   "source": [
    "### Absence (sanity check) - let's try no segmentation at all"
   ]
  },
  {
   "cell_type": "code",
   "execution_count": 85,
   "id": "8bdf3298",
   "metadata": {},
   "outputs": [],
   "source": [
    "def predict_boundaries_absence(corpus, embeddings, model):\n",
    "    topics = [0] * len(corpus)\n",
    "    assert len(topics) == len(corpus)\n",
    "    boundaries = get_boundaries(topics)\n",
    "    return boundaries, list(topics)"
   ]
  },
  {
   "cell_type": "code",
   "execution_count": 86,
   "id": "83e6c37b",
   "metadata": {},
   "outputs": [
    {
     "name": "stderr",
     "output_type": "stream",
     "text": [
      "100%|██████████| 50/50 [00:01<00:00, 46.55it/s]"
     ]
    },
    {
     "name": "stdout",
     "output_type": "stream",
     "text": [
      "absence0-wiki50 | WD: 0.493, PK: 0.493, F1: 0.000\n"
     ]
    },
    {
     "name": "stderr",
     "output_type": "stream",
     "text": [
      "\n"
     ]
    }
   ],
   "source": [
    "model_name = 'absence0'\n",
    "experiment_name = f'{model_name}-{dataset_name}'\n",
    "wds, pks, f1s = calc_metrics(test_ds_embedded, None, predict_boundaries_absence)\n",
    "save_metrics(experiment_name, wds, pks, f1s)\n",
    "wd_mean, pk_mean, f1_mean = get_mean_metrics(wds, pks, f1s)\n",
    "print(f'{experiment_name} | WD: {wd_mean:.3f}, PK: {pk_mean:.3f}, F1: {f1_mean:.3f}')"
   ]
  },
  {
   "cell_type": "code",
   "execution_count": 87,
   "id": "3a0a7f9e",
   "metadata": {},
   "outputs": [],
   "source": [
    "def predict_boundaries_absence(corpus, embeddings, model):\n",
    "    topics = [1] * len(corpus)\n",
    "    assert len(topics) == len(corpus)\n",
    "    boundaries = get_boundaries(topics)\n",
    "    return boundaries, list(topics)"
   ]
  },
  {
   "cell_type": "code",
   "execution_count": 88,
   "id": "5c1b2ab3",
   "metadata": {},
   "outputs": [
    {
     "name": "stderr",
     "output_type": "stream",
     "text": [
      "100%|██████████| 50/50 [00:01<00:00, 42.34it/s]"
     ]
    },
    {
     "name": "stdout",
     "output_type": "stream",
     "text": [
      "absence1-wiki50 | WD: 0.493, PK: 0.493, F1: 0.000\n"
     ]
    },
    {
     "name": "stderr",
     "output_type": "stream",
     "text": [
      "\n"
     ]
    }
   ],
   "source": [
    "model_name = 'absence1'\n",
    "experiment_name = f'{model_name}-{dataset_name}'\n",
    "wds, pks, f1s = calc_metrics(test_ds_embedded, None, predict_boundaries_absence)\n",
    "save_metrics(experiment_name, wds, pks, f1s)\n",
    "wd_mean, pk_mean, f1_mean = get_mean_metrics(wds, pks, f1s)\n",
    "print(f'{experiment_name} | WD: {wd_mean:.3f}, PK: {pk_mean:.3f}, F1: {f1_mean:.3f}')"
   ]
  },
  {
   "cell_type": "code",
   "execution_count": 89,
   "id": "fc7633ed",
   "metadata": {},
   "outputs": [
    {
     "name": "stdout",
     "output_type": "stream",
     "text": [
      "absence1-wiki50 | WD: 0.493, PK: 0.493, F1: 0.000\n"
     ]
    }
   ],
   "source": [
    "print(f'{experiment_name} | WD: {wd_mean:.3f}, PK: {pk_mean:.3f}, F1: {f1_mean:.3f}')"
   ]
  },
  {
   "attachments": {},
   "cell_type": "markdown",
   "id": "1e1c2ac0",
   "metadata": {},
   "source": [
    "## Visualization of segmentation and clustering"
   ]
  },
  {
   "attachments": {},
   "cell_type": "markdown",
   "id": "0a4edc6b",
   "metadata": {},
   "source": [
    "The idea of the visualization is to understand:\n",
    "- how close sentences in clusters;\n",
    "- how good clusters are, meaning that good clusters are complete and dissimilar to others"
   ]
  },
  {
   "cell_type": "code",
   "execution_count": 153,
   "id": "13c55cdc",
   "metadata": {},
   "outputs": [],
   "source": [
    "import random\n",
    "\n",
    "def create_class_colors(sentence_classes, seed=123):\n",
    "    random.seed(seed)\n",
    "    \n",
    "    class_colors = {}\n",
    "    for sentence_class in set(sentence_classes):\n",
    "        r = lambda: random.randint(0, 255)\n",
    "        color = '#{:02x}{:02x}{:02x}'.format(r(), r(), r())\n",
    "        class_colors[sentence_class] = '\\033[38;2;{};{};{}m'.format(*tuple(int(color.lstrip('#')[i:i+2], 16) for i in (0, 2, 4)))\n",
    "    return class_colors\n",
    "        \n",
    "        \n",
    "def print_colored_text(sentences, sentence_classes, class_colors):\n",
    "    for i, sentence in enumerate(sentences):\n",
    "        sentence_class = sentence_classes[i]\n",
    "        color = class_colors.get(sentence_class, '')\n",
    "        print(color + sentence + '\\033[0m', end=' ')"
   ]
  },
  {
   "cell_type": "code",
   "execution_count": 159,
   "id": "5f5d19ff",
   "metadata": {},
   "outputs": [
    {
     "name": "stdout",
     "output_type": "stream",
     "text": [
      "0 /data_mil/shared/datasets/nlp/wiki_test_50/10648433\n",
      "['1,preface.', '2,History.', '2,Garrison.']\n",
      "N of sections in a document: 3\n",
      "Original:\n",
      "\u001b[38;2;26;137;44mThe Signal Regiment () is a regiment of the Royal Danish Army.\u001b[0m \u001b[38;2;26;137;44mIt was established in 1951 with the purpose of training and equipping units to support the Danish army with wartime Command, Control and Communications.\u001b[0m \u001b[38;2;26;137;44mThe units filled by the regiment sets up the command, control and Communications infrastructure by setting up a vehicle-based microwave radio relay network in a mesh topology.\u001b[0m \u001b[38;2;26;137;44mThe network is designed to be secure, encrypted and difficult to neutralize.\u001b[0m \u001b[38;2;26;137;44mBesides the radio network, the regiment also establishes mobile military headquarters to be used by the army.\u001b[0m \u001b[38;2;208;136;55mThe history of the signal regiment dates back to 1867, when the first Danish signal unit was formed; the 4th Engineering Coy.\u001b[0m \u001b[38;2;208;136;55mOn January 1, 1914 the company gained status of a battalion in the Engineering Regiment.\u001b[0m \u001b[38;2;208;136;55mOn November 1, 1947 the Ministry of Defence decided to move the signal battalion from the engineering regiment to serving directly under the Generalkommandoen.\u001b[0m \u001b[38;2;208;136;55mThe result was the world's first independent signal unit.\u001b[0m \u001b[38;2;208;136;55mThe signal battalion was later split into two battalions.\u001b[0m \u001b[38;2;208;136;55mOn November 1, 1951 the two battalions were given regimental status and named \"Sjællandske Telegrafregiment\" and \"Jyske Telegrafregiment\".\u001b[0m \u001b[38;2;208;136;55m\"Sjællandske Telegrafregiment\" was attached to LAND FORCES COMMAND EAST and \"Jyske Telegrafregiment\" was attached to LAND FORCES COMMAND WEST.\u001b[0m \u001b[38;2;208;136;55mIn 1989, as the Cold War drew to a close, Parliament decided to merge the two regiments, garrisoning the resulting unit in Fredericia.\u001b[0m \u001b[38;2;208;136;55mThis decision was effected on January 1, 1992 and the new regiment was named \"Telegrafregimentet\".\u001b[0m \u001b[38;2;19;194;170mThe regiment is garrisoned in the towns of Fredericia and Haderslev.\u001b[0m \u001b[38;2;19;194;170mIn Fredericia, the regiment has two barracks, \"Bülows Kaserne\" and \"Ryes Kaserne\".\u001b[0m \u001b[38;2;19;194;170mBülows Kaserne is home to the school, and serves as regimental Headquarter.\u001b[0m \u001b[38;2;19;194;170mBülows Kaserne is placed in historical buildings inside the walls of the previous fortress town.\u001b[0m \u001b[38;2;19;194;170mRyes Kaserne is home to the 2nd Training Battalion, 3rd Signal Battalion and the Electronic Warfare Company.\u001b[0m \u001b[38;2;19;194;170mRyes Kaserne was built in the 1960s and borders \"Hyby Fælled\" Proving ground.\u001b[0m \u001b[38;2;19;194;170m\"Haderslev Kaserne\" is home to the 5th Signal Battalion, HQCOY/1st Brigade and the Military band \"Slesvigske Musikkorps\".\u001b[0m \u001b[38;2;19;194;170mBesides the two bases, the regiment operates Hyby Fælled Proving Ground outside Fredericia.\u001b[0m \u001b[38;2;19;194;170mThe proving ground is open for the public.\u001b[0m \n",
      " 1 1 1 1 1 2 2 2 2 2 2 2 2 2 3 3 3 3 3 3 3 3 3\n",
      "Splits:\n",
      "\u001b[38;2;26;137;44mThe Signal Regiment () is a regiment of the Royal Danish Army.\u001b[0m \u001b[38;2;208;136;55mIt was established in 1951 with the purpose of training and equipping units to support the Danish army with wartime Command, Control and Communications.\u001b[0m \u001b[38;2;19;194;170mThe units filled by the regiment sets up the command, control and Communications infrastructure by setting up a vehicle-based microwave radio relay network in a mesh topology.\u001b[0m \u001b[38;2;174;26;81mThe network is designed to be secure, encrypted and difficult to neutralize.\u001b[0m \u001b[38;2;69;172;170mBesides the radio network, the regiment also establishes mobile military headquarters to be used by the army.\u001b[0m \u001b[38;2;125;83;0mThe history of the signal regiment dates back to 1867, when the first Danish signal unit was formed; the 4th Engineering Coy.\u001b[0m \u001b[38;2;223;44;193mOn January 1, 1914 the company gained status of a battalion in the Engineering Regiment.\u001b[0m \u001b[38;2;35;3;161mOn November 1, 1947 the Ministry of Defence decided to move the signal battalion from the engineering regiment to serving directly under the Generalkommandoen.\u001b[0m \u001b[38;2;229;52;22mThe result was the world's first independent signal unit.\u001b[0m \u001b[38;2;47;72;64mThe signal battalion was later split into two battalions.\u001b[0m \u001b[38;2;10;149;220mOn November 1, 1951 the two battalions were given regimental status and named \"Sjællandske Telegrafregiment\" and \"Jyske Telegrafregiment\".\u001b[0m \u001b[38;2;244;135;240m\"Sjællandske Telegrafregiment\" was attached to LAND FORCES COMMAND EAST and \"Jyske Telegrafregiment\" was attached to LAND FORCES COMMAND WEST.\u001b[0m \u001b[38;2;18;156;175mIn 1989, as the Cold War drew to a close, Parliament decided to merge the two regiments, garrisoning the resulting unit in Fredericia.\u001b[0m \u001b[38;2;247;105;161mThis decision was effected on January 1, 1992 and the new regiment was named \"Telegrafregimentet\".\u001b[0m \u001b[38;2;6;203;222mThe regiment is garrisoned in the towns of Fredericia and Haderslev.\u001b[0m \u001b[38;2;248;214;191mIn Fredericia, the regiment has two barracks, \"Bülows Kaserne\" and \"Ryes Kaserne\".\u001b[0m \u001b[38;2;16;92;42mBülows Kaserne is home to the school, and serves as regimental Headquarter.\u001b[0m \u001b[38;2;249;134;87mBülows Kaserne is placed in historical buildings inside the walls of the previous fortress town.\u001b[0m \u001b[38;2;171;172;200mRyes Kaserne is home to the 2nd Training Battalion, 3rd Signal Battalion and the Electronic Warfare Company.\u001b[0m \u001b[38;2;37;233;198mRyes Kaserne was built in the 1960s and borders \"Hyby Fælled\" Proving ground.\u001b[0m \u001b[38;2;172;8;96m\"Haderslev Kaserne\" is home to the 5th Signal Battalion, HQCOY/1st Brigade and the Military band \"Slesvigske Musikkorps\".\u001b[0m \u001b[38;2;45;186;6mBesides the two bases, the regiment operates Hyby Fælled Proving Ground outside Fredericia.\u001b[0m \u001b[38;2;180;117;207mThe proving ground is open for the public.\u001b[0m \n",
      "\n",
      "[ 0  0 -1 -1 -1  0 -1  0 -1  0  0 -1  1 -1  1  1  1  1  1 -1  1  1 -1]\n",
      "[ 0  0 -1 -1 -1 -1 -1 -1 -1  0  0  0  0  0  1  1  1  1  1  1  1  1 -1]\n",
      "[ 0  0 -1 -1 -1 -1 -1 -1 -1  0  0  0  0  0  1  1  1  1  1  1  1  1 -1]\n",
      "[ 0  0 -1 -1 -1 -1 -1 -1 -1  0  0  0  0  0  1  1  1  1  1  1  1  1 -1]\n",
      "[ 0  0 -1 -1 -1 -1 -1 -1 -1  0  0  0  0  0  1  1  1  1  1  1  1  1 -1]\n",
      "[ 0  0 -1 -1 -1 -1 -1 -1 -1  0  0  0  0  0  1  1  1  1  1  1  1  1 -1]\n",
      "\u001b[38;2;26;137;44mThe Signal Regiment () is a regiment of the Royal Danish Army.\u001b[0m \u001b[38;2;26;137;44mIt was established in 1951 with the purpose of training and equipping units to support the Danish army with wartime Command, Control and Communications.\u001b[0m \u001b[38;2;19;194;170mThe units filled by the regiment sets up the command, control and Communications infrastructure by setting up a vehicle-based microwave radio relay network in a mesh topology.\u001b[0m \u001b[38;2;19;194;170mThe network is designed to be secure, encrypted and difficult to neutralize.\u001b[0m \u001b[38;2;19;194;170mBesides the radio network, the regiment also establishes mobile military headquarters to be used by the army.\u001b[0m \u001b[38;2;19;194;170mThe history of the signal regiment dates back to 1867, when the first Danish signal unit was formed; the 4th Engineering Coy.\u001b[0m \u001b[38;2;19;194;170mOn January 1, 1914 the company gained status of a battalion in the Engineering Regiment.\u001b[0m \u001b[38;2;19;194;170mOn November 1, 1947 the Ministry of Defence decided to move the signal battalion from the engineering regiment to serving directly under the Generalkommandoen.\u001b[0m \u001b[38;2;19;194;170mThe result was the world's first independent signal unit.\u001b[0m \u001b[38;2;26;137;44mThe signal battalion was later split into two battalions.\u001b[0m \u001b[38;2;26;137;44mOn November 1, 1951 the two battalions were given regimental status and named \"Sjællandske Telegrafregiment\" and \"Jyske Telegrafregiment\".\u001b[0m \u001b[38;2;26;137;44m\"Sjællandske Telegrafregiment\" was attached to LAND FORCES COMMAND EAST and \"Jyske Telegrafregiment\" was attached to LAND FORCES COMMAND WEST.\u001b[0m \u001b[38;2;26;137;44mIn 1989, as the Cold War drew to a close, Parliament decided to merge the two regiments, garrisoning the resulting unit in Fredericia.\u001b[0m \u001b[38;2;26;137;44mThis decision was effected on January 1, 1992 and the new regiment was named \"Telegrafregimentet\".\u001b[0m \u001b[38;2;208;136;55mThe regiment is garrisoned in the towns of Fredericia and Haderslev.\u001b[0m \u001b[38;2;208;136;55mIn Fredericia, the regiment has two barracks, \"Bülows Kaserne\" and \"Ryes Kaserne\".\u001b[0m \u001b[38;2;208;136;55mBülows Kaserne is home to the school, and serves as regimental Headquarter.\u001b[0m \u001b[38;2;208;136;55mBülows Kaserne is placed in historical buildings inside the walls of the previous fortress town.\u001b[0m \u001b[38;2;208;136;55mRyes Kaserne is home to the 2nd Training Battalion, 3rd Signal Battalion and the Electronic Warfare Company.\u001b[0m \u001b[38;2;208;136;55mRyes Kaserne was built in the 1960s and borders \"Hyby Fælled\" Proving ground.\u001b[0m \u001b[38;2;208;136;55m\"Haderslev Kaserne\" is home to the 5th Signal Battalion, HQCOY/1st Brigade and the Military band \"Slesvigske Musikkorps\".\u001b[0m \u001b[38;2;208;136;55mBesides the two bases, the regiment operates Hyby Fælled Proving Ground outside Fredericia.\u001b[0m \u001b[38;2;19;194;170mThe proving ground is open for the public.\u001b[0m "
     ]
    }
   ],
   "source": [
    "for i, data in enumerate(test_ds_embedded.select([10])):\n",
    "    # get original segmentation:\n",
    "    print(i, data['path'])\n",
    "    print(data['topic_names'])\n",
    "    sentences = data['sections']\n",
    "    sentence_classes = data['labels']\n",
    "    print(f'N of sections in a document: {len(set(sentence_classes))}')\n",
    "    \n",
    "    print('Original:')\n",
    "    class_colors = create_class_colors(sentence_classes)\n",
    "    print_colored_text(sentences, sentence_classes, class_colors)\n",
    "    \n",
    "    print('\\n', *sentence_classes)\n",
    "    \n",
    "    # get ngrams segmentation:\n",
    "    print('Splits:')\n",
    "    sections = []\n",
    "    tags = []\n",
    "    tag_i = 0\n",
    "    for s, c in zip(sentences, sentence_classes):\n",
    "        simple_sentences = s\n",
    "        sections.append(simple_sentences)\n",
    "        for j in range(len(simple_sentences)):\n",
    "            tags.append(tag_i)\n",
    "            tag_i += 1\n",
    "    class_colors = create_class_colors(tags)\n",
    "    print_colored_text(sections, tags, class_colors)\n",
    "    print('\\n')\n",
    "    \n",
    "    # use clustering to get topics and assign topic tags to each sentence:\n",
    "    topic_scores = np.array(data['embeddings'])\n",
    "\n",
    "    # reducer = umap.UMAP(metric='cosine')\n",
    "    # topic_scores = reducer.fit_transform(topic_scores)\n",
    "    \n",
    "    model = sklearn.cluster.HDBSCAN(min_cluster_size=3)\n",
    "    topics = model.fit_predict(topic_scores)\n",
    "    print(topics)\n",
    "    \n",
    "    # n_topics = len(set(topics))\n",
    "    # print(f'Estimated number of topics: {n_topics}')\n",
    "    # model = sklearn.cluster.KMeans(n_clusters=n_topics)\n",
    "    # topics = model.fit_predict(topic_scores)\n",
    "    # print(topics)\n",
    "    for j in range(5):\n",
    "        for i in range(len(topics)-2):\n",
    "            if topics[i] == topics[i+2]:\n",
    "                topics[i+1] = topics[i]\n",
    "            if topics[i] != topics[i+1] and topics[i] != topics[i+2] and topics[i+1] != topics[i+2]:\n",
    "                topics[i+1] = topics[i]\n",
    "        print(topics)\n",
    "        \n",
    "    class_colors = create_class_colors(topics)\n",
    "    # print(class_colors)\n",
    "    print_colored_text(sentences, topics, class_colors)\n",
    "    break"
   ]
  },
  {
   "cell_type": "code",
   "execution_count": null,
   "id": "45fc0c46",
   "metadata": {},
   "outputs": [],
   "source": []
  }
 ],
 "metadata": {
  "kernelspec": {
   "display_name": "Python 3 (ipykernel)",
   "language": "python",
   "name": "python3"
  },
  "language_info": {
   "codemirror_mode": {
    "name": "ipython",
    "version": 3
   },
   "file_extension": ".py",
   "mimetype": "text/x-python",
   "name": "python",
   "nbconvert_exporter": "python",
   "pygments_lexer": "ipython3",
   "version": "3.9.16"
  }
 },
 "nbformat": 4,
 "nbformat_minor": 5
}
